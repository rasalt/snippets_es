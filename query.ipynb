{
 "cells": [
  {
   "cell_type": "markdown",
   "id": "bd414ff4-9ffb-4ef5-a5ec-fbdbc689435d",
   "metadata": {},
   "source": [
    "## Snippets: Usage of filters and metadata \n",
    "https://cloud.google.com/retail/docs/filter-and-order\n",
    "The expressions for \"filter\" are expected to work in these examples"
   ]
  },
  {
   "cell_type": "markdown",
   "id": "67e46dd3-fb9c-471d-ad09-e5d7e620714a",
   "metadata": {},
   "source": [
    "Metadata for the this store <ES_STORE_ID> looks like this:\n",
    "\n",
    "\"id\": \"1\", \"structData\": {\"title\": \"Document1\", \"category\": [\"PersonaA\"], \"name\": \"Document1\"}, \"content\": {\"mimeType\": \"application/pdf\", \"uri\": \"gs://<BUCKETNAME>/data/Document1\"}}\n",
    "\n",
    "\n",
    "{\"id\": \"2\", \"structData\": {\"title\": \"Document2\", \"category\": [\"PersonaA\", \"PersonaB\"], \"name\": \"Document2\"}, \"content\": {\"mimeType\": \"application/pdf\", \"uri\": \"gs://<BUCKETNAME>/data/Document2\"}}\n",
    "\n",
    "    "
   ]
  },
  {
   "cell_type": "markdown",
   "id": "c828d9dd-ceec-459c-adf2-8a9d2dbbc138",
   "metadata": {},
   "source": [
    "### Below the filter name: ANY(..) matches ensure the query is against only the documents' metadata satisfying that criteria."
   ]
  },
  {
   "cell_type": "code",
   "execution_count": null,
   "id": "aab7d70c-c994-42e6-9ef8-9220007d0fa4",
   "metadata": {},
   "outputs": [],
   "source": [
    "%%bash\n",
    "curl -X POST -H \"Authorization: Bearer $(gcloud auth print-access-token)\" \\\n",
    "-H \"Content-Type: application/json\" \\\n",
    "\"https://discoveryengine.googleapis.com/v1beta/projects/<PROJECT>/locations/global/collections/default_collection/dataStores/<ES_STORE_ID>/servingConfigs/default_search:search\" \\\n",
    "-d '{\n",
    "\"servingConfig\": \"projects/<PROJECT>/locations/global/collections/default_collection/dataStores/<ES_STORE_ID>/servingConfigs/default_search\",\n",
    "\"query\": \"claim\",\n",
    "\"filter\": \"name: ANY(\\\"Document1\\\")\"\n",
    "}'"
   ]
  },
  {
   "cell_type": "markdown",
   "id": "21d05f61-eb79-4d9a-ad54-60bc7809e9ee",
   "metadata": {},
   "source": [
    "### Below the filter name: ANY(..) matches ensure the query is against only the documents' metadata satisfying that criteria."
   ]
  },
  {
   "cell_type": "code",
   "execution_count": null,
   "id": "a60f0bee-f05c-44af-b101-7ee17f403d76",
   "metadata": {},
   "outputs": [],
   "source": [
    "%%bash\n",
    "curl -X POST -H \"Authorization: Bearer $(gcloud auth print-access-token)\" \\\n",
    "-H \"Content-Type: application/json\" \\\n",
    "\"https://discoveryengine.googleapis.com/v1beta/projects/<PROJECT>/locations/global/collections/default_collection/dataStores/<ES_STORE_ID>/servingConfigs/default_search:search\" \\\n",
    "-d '{\n",
    "\"servingConfig\": \"projects/<PROJECT>/locations/global/collections/default_collection/dataStores/<ES_STORE_ID>/servingConfigs/default_search\",\n",
    "\"query\": \"claims\",\n",
    "\"filter\": \"category: ANY(\\\"PersonaB\\\")\"\n",
    "}'"
   ]
  },
  {
   "cell_type": "markdown",
   "id": "587b3406-7904-492d-a496-41f60218457c",
   "metadata": {},
   "source": [
    "### Python Code equivalent"
   ]
  },
  {
   "cell_type": "code",
   "execution_count": null,
   "id": "cd018610-0612-48d0-a6da-cf32d0f9f4bf",
   "metadata": {},
   "outputs": [],
   "source": [
    "# Local import of retriever class\n",
    "import sys, os\n",
    "sys.path.append(os.path.abspath(\"..\"))\n",
    "from utils.es import es_raw_search_summary"
   ]
  },
  {
   "cell_type": "code",
   "execution_count": null,
   "id": "518acf70-3057-4c05-be9a-edb0c548d661",
   "metadata": {},
   "outputs": [],
   "source": [
    "PROJECT_ID = \"<PROJECT>\"\n",
    "SEARCH_ENGINE_ID = \"<ES_STORE_ID>\""
   ]
  },
  {
   "cell_type": "code",
   "execution_count": null,
   "id": "cd59d6af-623c-4901-8545-483a89c9b7f0",
   "metadata": {},
   "outputs": [],
   "source": [
    "query = \"how to process a claim\"\n",
    "rawresults = None\n",
    "summary, rawresults = es_raw_search_summary(PROJECT_ID, SEARCH_ENGINE_ID, query, filtername=\"name: ANY(\\\"Document1\\\")\")\n",
    "#summary, rawresult = es_raw_search_summary(PROJECT_ID, SEARCH_ENGINE_ID, query)\n",
    "print(f\"\\nQuestion: '{query}'\\n\\nES Summary: '{summary}'\")\n",
    "print(\"Rawresult\" + \"-\"*40)\n",
    "print(rawresults)\n",
    "print(\"Summary\" + \"-\"*40)\n",
    "print(summary)"
   ]
  },
  {
   "cell_type": "markdown",
   "id": "8318a8f2-ffed-4b7e-b280-4e2f2707162f",
   "metadata": {},
   "source": [
    "## In this example I set a slightly more complex filter based on 2 metadata values"
   ]
  },
  {
   "cell_type": "code",
   "execution_count": null,
   "id": "5cd4a768-4747-48cf-aec4-04d87f5cc736",
   "metadata": {},
   "outputs": [],
   "source": [
    "query = \"how to process a claim\"\n",
    "rawresults = None\n",
    "filtersample = \"name: ANY(\\\"Document1\\\") AND category: ANY(\\\"PersonaA\\\")\"\n",
    "summary, rawresults = es_raw_search_summary(PROJECT_ID, SEARCH_ENGINE_ID, query, filtername=filtersample)\n",
    "#summary, rawresult = es_raw_search_summary(PROJECT_ID, SEARCH_ENGINE_ID, query)\n",
    "print(f\"\\nQuestion: '{query}'\\n\\nES Summary: '{summary}'\")\n",
    "print(\"Rawresult\" + \"-\"*40)\n",
    "print(rawresults)\n",
    "print(\"Summary\" + \"-\"*40)\n",
    "print(summary)"
   ]
  }
 ],
 "metadata": {
  "environment": {
   "kernel": "python3",
   "name": "common-cpu.m108",
   "type": "gcloud",
   "uri": "gcr.io/deeplearning-platform-release/base-cpu:m108"
  },
  "kernelspec": {
   "display_name": "Python 3 (ipykernel)",
   "language": "python",
   "name": "python3"
  },
  "language_info": {
   "codemirror_mode": {
    "name": "ipython",
    "version": 3
   },
   "file_extension": ".py",
   "mimetype": "text/x-python",
   "name": "python",
   "nbconvert_exporter": "python",
   "pygments_lexer": "ipython3",
   "version": "3.10.10"
  }
 },
 "nbformat": 4,
 "nbformat_minor": 5
}
