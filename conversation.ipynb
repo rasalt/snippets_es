{
 "cells": [
  {
   "cell_type": "markdown",
   "id": "bd414ff4-9ffb-4ef5-a5ec-fbdbc689435d",
   "metadata": {},
   "source": [
    "## Goal: \n",
    "Leverage the notebook to have a conversation/multi turn search with enterprise search"
   ]
  },
  {
   "cell_type": "markdown",
   "id": "c828d9dd-ceec-459c-adf2-8a9d2dbbc138",
   "metadata": {},
   "source": [
    "## Create a conversation"
   ]
  },
  {
   "cell_type": "code",
   "execution_count": null,
   "id": "aab7d70c-c994-42e6-9ef8-9220007d0fa4",
   "metadata": {},
   "outputs": [],
   "source": [
    "from utils.es import create_conversation, converse_conversation\n",
    "conversation_parent = create_conversation(\"<PROJECT NAME>\", \"global\", \"<ES Instance ID>\")\n",
    "print(\"Conversational Parent: \" + conversation_parent)"
   ]
  },
  {
   "cell_type": "markdown",
   "id": "f2e1faa9-e18b-42e8-a5db-07ad4e456366",
   "metadata": {},
   "source": [
    "## Converse - Question 1"
   ]
  },
  {
   "cell_type": "code",
   "execution_count": null,
   "id": "82ea899a-5baa-44f2-8340-de3069e32e77",
   "metadata": {},
   "outputs": [],
   "source": [
    "converse_conversation(conversation_parent, \"Is ADHD covered\")"
   ]
  },
  {
   "cell_type": "markdown",
   "id": "ae7412a0-263c-420a-b7bc-e9fe25f53185",
   "metadata": {},
   "source": [
    "## Converse - Question 2"
   ]
  },
  {
   "cell_type": "code",
   "execution_count": null,
   "id": "2fec6b35-c18e-4e60-8ce1-0484641c7dcc",
   "metadata": {},
   "outputs": [],
   "source": [
    "converse_conversation(conversation_parent, \"How much does it cost\")"
   ]
  },
  {
   "cell_type": "markdown",
   "id": "18607655-0f30-4ce7-8f4b-9134fb80c0d1",
   "metadata": {},
   "source": [
    "etc ... "
   ]
  }
 ],
 "metadata": {
  "environment": {
   "kernel": "python3",
   "name": "common-cpu.m108",
   "type": "gcloud",
   "uri": "gcr.io/deeplearning-platform-release/base-cpu:m108"
  },
  "kernelspec": {
   "display_name": "Python 3 (ipykernel)",
   "language": "python",
   "name": "python3"
  },
  "language_info": {
   "codemirror_mode": {
    "name": "ipython",
    "version": 3
   },
   "file_extension": ".py",
   "mimetype": "text/x-python",
   "name": "python",
   "nbconvert_exporter": "python",
   "pygments_lexer": "ipython3",
   "version": "3.10.10"
  }
 },
 "nbformat": 4,
 "nbformat_minor": 5
}
