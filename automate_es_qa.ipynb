{
 "cells": [
  {
   "cell_type": "markdown",
   "metadata": {
    "id": "359697d5"
   },
   "source": [
    "# Enterprise Search Q & A Automation notebook \n",
    "_Augmented with document retrieval from Google Enterprise Search_\n",
    "\n",
    "<table align=\"left\">\n",
    "\n",
    "  <td>\n",
    "    <a href=\"https://colab.research.google.com/github/GoogleCloudPlatform/generative-ai/blob/main/retrieval-augmented/enterprise-search/examples/question_answering.ipynb\">\n",
    "      <img src=\"https://cloud.google.com/ml-engine/images/colab-logo-32px.png\" alt=\"Colab logo\"> Run in Colab\n",
    "    </a>\n",
    "  </td>\n",
    "  <td>\n",
    "    <a href=\"https://github.com/GoogleCloudPlatform/generative-ai/blob/main/retrieval-augmented/enterprise-search/examples/question_answering.ipynb\">\n",
    "      <img src=\"https://cloud.google.com/ml-engine/images/github-logo-32px.png\" alt=\"GitHub logo\">\n",
    "      View on GitHub\n",
    "    </a>\n",
    "  </td>\n",
    "  <td>\n",
    "    <a href=\"https://console.cloud.google.com/vertex-ai/workbench/deploy-notebook?download_url=https://raw.githubusercontent.com/GoogleCloudPlatform/generative-ai/blob/main/retrieval-augmented/enterprise-search/examples/question_answering.ipynb\">\n",
    "      <img src=\"https://lh3.googleusercontent.com/UiNooY4LUgW_oTvpsNhPpQzsstV5W8F7rYgxgGBD85cWJoLmrOzhVs_ksK_vgx40SHs7jCqkTkCk=e14-rj-sc0xffffff-h130-w32\" alt=\"Vertex AI logo\">\n",
    "      Open in Vertex AI Workbench\n",
    "    </a>\n",
    "  </td>\n",
    "</table>"
   ]
  },
  {
   "cell_type": "markdown",
   "metadata": {
    "id": "pQbOO-Lc-2-7"
   },
   "source": [
    "## Install pre-requisites\n",
    "\n",
    "If running in Colab install the pre-requisites into the runtime. Otherwise it is assumed that the notebook is running in Vertex Workbench. In that case it is recommended to install the pre-requistes from a terminal using the `--user` option."
   ]
  },
  {
   "cell_type": "code",
   "execution_count": 2,
   "metadata": {
    "id": "ohPUPez8imvE",
    "tags": []
   },
   "outputs": [
    {
     "name": "stdout",
     "output_type": "stream",
     "text": [
      "\u001b[33mWARNING: Ignoring invalid distribution -ensorflow (/opt/conda/lib/python3.10/site-packages)\u001b[0m\u001b[33m\n",
      "\u001b[0mRequirement already satisfied: google-cloud-aiplatform in /home/jupyter/.local/lib/python3.10/site-packages (1.32.0)\n",
      "Requirement already satisfied: google-cloud-discoveryengine in /home/jupyter/.local/lib/python3.10/site-packages (0.11.0)\n",
      "Requirement already satisfied: langchain==0.0.229 in /home/jupyter/.local/lib/python3.10/site-packages (0.0.229)\n",
      "Requirement already satisfied: pydantic==1.10.8 in /home/jupyter/.local/lib/python3.10/site-packages (1.10.8)\n",
      "Requirement already satisfied: typing-inspect==0.8.0 in /home/jupyter/.local/lib/python3.10/site-packages (0.8.0)\n",
      "Requirement already satisfied: typing_extensions==4.5.0 in /opt/conda/lib/python3.10/site-packages (4.5.0)\n",
      "Requirement already satisfied: PyYAML>=5.4.1 in /opt/conda/lib/python3.10/site-packages (from langchain==0.0.229) (5.4.1)\n",
      "Requirement already satisfied: SQLAlchemy<3,>=1.4 in /home/jupyter/.local/lib/python3.10/site-packages (from langchain==0.0.229) (2.0.15)\n",
      "Requirement already satisfied: aiohttp<4.0.0,>=3.8.3 in /opt/conda/lib/python3.10/site-packages (from langchain==0.0.229) (3.8.4)\n",
      "Requirement already satisfied: async-timeout<5.0.0,>=4.0.0 in /opt/conda/lib/python3.10/site-packages (from langchain==0.0.229) (4.0.2)\n",
      "Requirement already satisfied: dataclasses-json<0.6.0,>=0.5.7 in /opt/conda/lib/python3.10/site-packages (from langchain==0.0.229) (0.5.7)\n",
      "Requirement already satisfied: langchainplus-sdk<0.0.21,>=0.0.20 in /home/jupyter/.local/lib/python3.10/site-packages (from langchain==0.0.229) (0.0.20)\n",
      "Requirement already satisfied: numexpr<3.0.0,>=2.8.4 in /opt/conda/lib/python3.10/site-packages (from langchain==0.0.229) (2.8.4)\n",
      "Requirement already satisfied: numpy<2,>=1 in /opt/conda/lib/python3.10/site-packages (from langchain==0.0.229) (1.23.5)\n",
      "Requirement already satisfied: openapi-schema-pydantic<2.0,>=1.2 in /opt/conda/lib/python3.10/site-packages (from langchain==0.0.229) (1.2.4)\n",
      "Requirement already satisfied: requests<3,>=2 in /home/jupyter/.local/lib/python3.10/site-packages (from langchain==0.0.229) (2.31.0)\n",
      "Requirement already satisfied: tenacity<9.0.0,>=8.1.0 in /opt/conda/lib/python3.10/site-packages (from langchain==0.0.229) (8.2.2)\n",
      "Requirement already satisfied: mypy-extensions>=0.3.0 in /opt/conda/lib/python3.10/site-packages (from typing-inspect==0.8.0) (1.0.0)\n",
      "Requirement already satisfied: google-api-core[grpc]!=2.0.*,!=2.1.*,!=2.2.*,!=2.3.*,!=2.4.*,!=2.5.*,!=2.6.*,!=2.7.*,<3.0.0dev,>=1.32.0 in /home/jupyter/.local/lib/python3.10/site-packages (from google-cloud-aiplatform) (2.11.0)\n",
      "Requirement already satisfied: proto-plus<2.0.0dev,>=1.22.0 in /opt/conda/lib/python3.10/site-packages (from google-cloud-aiplatform) (1.22.2)\n",
      "Requirement already satisfied: protobuf!=3.20.0,!=3.20.1,!=4.21.0,!=4.21.1,!=4.21.2,!=4.21.3,!=4.21.4,!=4.21.5,<5.0.0dev,>=3.19.5 in /opt/conda/lib/python3.10/site-packages (from google-cloud-aiplatform) (3.19.6)\n",
      "Requirement already satisfied: packaging>=14.3 in /home/jupyter/.local/lib/python3.10/site-packages (from google-cloud-aiplatform) (23.1)\n",
      "Requirement already satisfied: google-cloud-storage<3.0.0dev,>=1.32.0 in /home/jupyter/.local/lib/python3.10/site-packages (from google-cloud-aiplatform) (2.9.0)\n",
      "Requirement already satisfied: google-cloud-bigquery<4.0.0dev,>=1.15.0 in /opt/conda/lib/python3.10/site-packages (from google-cloud-aiplatform) (3.10.0)\n",
      "Requirement already satisfied: google-cloud-resource-manager<3.0.0dev,>=1.3.3 in /home/jupyter/.local/lib/python3.10/site-packages (from google-cloud-aiplatform) (1.10.1)\n",
      "Requirement already satisfied: shapely<2.0.0 in /opt/conda/lib/python3.10/site-packages (from google-cloud-aiplatform) (1.8.5)\n",
      "Requirement already satisfied: attrs>=17.3.0 in /home/jupyter/.local/lib/python3.10/site-packages (from aiohttp<4.0.0,>=3.8.3->langchain==0.0.229) (23.1.0)\n",
      "Requirement already satisfied: charset-normalizer<4.0,>=2.0 in /opt/conda/lib/python3.10/site-packages (from aiohttp<4.0.0,>=3.8.3->langchain==0.0.229) (3.1.0)\n",
      "Requirement already satisfied: multidict<7.0,>=4.5 in /opt/conda/lib/python3.10/site-packages (from aiohttp<4.0.0,>=3.8.3->langchain==0.0.229) (6.0.4)\n",
      "Requirement already satisfied: yarl<2.0,>=1.0 in /opt/conda/lib/python3.10/site-packages (from aiohttp<4.0.0,>=3.8.3->langchain==0.0.229) (1.9.2)\n",
      "Requirement already satisfied: frozenlist>=1.1.1 in /opt/conda/lib/python3.10/site-packages (from aiohttp<4.0.0,>=3.8.3->langchain==0.0.229) (1.3.3)\n",
      "Requirement already satisfied: aiosignal>=1.1.2 in /opt/conda/lib/python3.10/site-packages (from aiohttp<4.0.0,>=3.8.3->langchain==0.0.229) (1.3.1)\n",
      "Requirement already satisfied: marshmallow<4.0.0,>=3.3.0 in /opt/conda/lib/python3.10/site-packages (from dataclasses-json<0.6.0,>=0.5.7->langchain==0.0.229) (3.19.0)\n",
      "Requirement already satisfied: marshmallow-enum<2.0.0,>=1.5.1 in /opt/conda/lib/python3.10/site-packages (from dataclasses-json<0.6.0,>=0.5.7->langchain==0.0.229) (1.5.1)\n",
      "Requirement already satisfied: googleapis-common-protos<2.0dev,>=1.56.2 in /opt/conda/lib/python3.10/site-packages (from google-api-core[grpc]!=2.0.*,!=2.1.*,!=2.2.*,!=2.3.*,!=2.4.*,!=2.5.*,!=2.6.*,!=2.7.*,<3.0.0dev,>=1.32.0->google-cloud-aiplatform) (1.59.0)\n",
      "Requirement already satisfied: google-auth<3.0dev,>=2.14.1 in /opt/conda/lib/python3.10/site-packages (from google-api-core[grpc]!=2.0.*,!=2.1.*,!=2.2.*,!=2.3.*,!=2.4.*,!=2.5.*,!=2.6.*,!=2.7.*,<3.0.0dev,>=1.32.0->google-cloud-aiplatform) (2.17.3)\n",
      "Requirement already satisfied: grpcio<2.0dev,>=1.33.2 in /home/jupyter/.local/lib/python3.10/site-packages (from google-api-core[grpc]!=2.0.*,!=2.1.*,!=2.2.*,!=2.3.*,!=2.4.*,!=2.5.*,!=2.6.*,!=2.7.*,<3.0.0dev,>=1.32.0->google-cloud-aiplatform) (1.54.2)\n",
      "Requirement already satisfied: grpcio-status<2.0dev,>=1.33.2 in /home/jupyter/.local/lib/python3.10/site-packages (from google-api-core[grpc]!=2.0.*,!=2.1.*,!=2.2.*,!=2.3.*,!=2.4.*,!=2.5.*,!=2.6.*,!=2.7.*,<3.0.0dev,>=1.32.0->google-cloud-aiplatform) (1.48.2)\n",
      "Requirement already satisfied: google-cloud-core<3.0.0dev,>=1.6.0 in /opt/conda/lib/python3.10/site-packages (from google-cloud-bigquery<4.0.0dev,>=1.15.0->google-cloud-aiplatform) (2.3.2)\n",
      "Requirement already satisfied: google-resumable-media<3.0dev,>=0.6.0 in /opt/conda/lib/python3.10/site-packages (from google-cloud-bigquery<4.0.0dev,>=1.15.0->google-cloud-aiplatform) (2.5.0)\n",
      "Requirement already satisfied: python-dateutil<3.0dev,>=2.7.2 in /opt/conda/lib/python3.10/site-packages (from google-cloud-bigquery<4.0.0dev,>=1.15.0->google-cloud-aiplatform) (2.8.2)\n",
      "Requirement already satisfied: grpc-google-iam-v1<1.0.0dev,>=0.12.4 in /opt/conda/lib/python3.10/site-packages (from google-cloud-resource-manager<3.0.0dev,>=1.3.3->google-cloud-aiplatform) (0.12.6)\n",
      "Requirement already satisfied: idna<4,>=2.5 in /opt/conda/lib/python3.10/site-packages (from requests<3,>=2->langchain==0.0.229) (3.4)\n",
      "Requirement already satisfied: urllib3<3,>=1.21.1 in /opt/conda/lib/python3.10/site-packages (from requests<3,>=2->langchain==0.0.229) (1.26.15)\n",
      "Requirement already satisfied: certifi>=2017.4.17 in /home/jupyter/.local/lib/python3.10/site-packages (from requests<3,>=2->langchain==0.0.229) (2023.5.7)\n",
      "Requirement already satisfied: greenlet!=0.4.17 in /opt/conda/lib/python3.10/site-packages (from SQLAlchemy<3,>=1.4->langchain==0.0.229) (2.0.2)\n",
      "Requirement already satisfied: cachetools<6.0,>=2.0.0 in /opt/conda/lib/python3.10/site-packages (from google-auth<3.0dev,>=2.14.1->google-api-core[grpc]!=2.0.*,!=2.1.*,!=2.2.*,!=2.3.*,!=2.4.*,!=2.5.*,!=2.6.*,!=2.7.*,<3.0.0dev,>=1.32.0->google-cloud-aiplatform) (5.3.0)\n",
      "Requirement already satisfied: pyasn1-modules>=0.2.1 in /opt/conda/lib/python3.10/site-packages (from google-auth<3.0dev,>=2.14.1->google-api-core[grpc]!=2.0.*,!=2.1.*,!=2.2.*,!=2.3.*,!=2.4.*,!=2.5.*,!=2.6.*,!=2.7.*,<3.0.0dev,>=1.32.0->google-cloud-aiplatform) (0.3.0)\n",
      "Requirement already satisfied: six>=1.9.0 in /home/jupyter/.local/lib/python3.10/site-packages (from google-auth<3.0dev,>=2.14.1->google-api-core[grpc]!=2.0.*,!=2.1.*,!=2.2.*,!=2.3.*,!=2.4.*,!=2.5.*,!=2.6.*,!=2.7.*,<3.0.0dev,>=1.32.0->google-cloud-aiplatform) (1.12.0)\n",
      "Requirement already satisfied: rsa<5,>=3.1.4 in /opt/conda/lib/python3.10/site-packages (from google-auth<3.0dev,>=2.14.1->google-api-core[grpc]!=2.0.*,!=2.1.*,!=2.2.*,!=2.3.*,!=2.4.*,!=2.5.*,!=2.6.*,!=2.7.*,<3.0.0dev,>=1.32.0->google-cloud-aiplatform) (4.9)\n",
      "Requirement already satisfied: google-crc32c<2.0dev,>=1.0 in /opt/conda/lib/python3.10/site-packages (from google-resumable-media<3.0dev,>=0.6.0->google-cloud-bigquery<4.0.0dev,>=1.15.0->google-cloud-aiplatform) (1.5.0)\n",
      "Requirement already satisfied: pyasn1<0.6.0,>=0.4.6 in /opt/conda/lib/python3.10/site-packages (from pyasn1-modules>=0.2.1->google-auth<3.0dev,>=2.14.1->google-api-core[grpc]!=2.0.*,!=2.1.*,!=2.2.*,!=2.3.*,!=2.4.*,!=2.5.*,!=2.6.*,!=2.7.*,<3.0.0dev,>=1.32.0->google-cloud-aiplatform) (0.5.0)\n",
      "\u001b[33mWARNING: Ignoring invalid distribution -ensorflow (/opt/conda/lib/python3.10/site-packages)\u001b[0m\u001b[33m\n",
      "\u001b[0m\u001b[33mDEPRECATION: textract 1.6.5 has a non-standard dependency specifier extract-msg<=0.29.*. pip 23.3 will enforce this behaviour change. A possible replacement is to upgrade to a newer version of textract or contact the author to suggest that they release a version with a conforming dependency specifiers. Discussion can be found at https://github.com/pypa/pip/issues/12063\u001b[0m\u001b[33m\n",
      "\u001b[0m"
     ]
    }
   ],
   "source": [
    "! pip install google-cloud-aiplatform google-cloud-discoveryengine langchain==0.0.229 pydantic==1.10.8 typing-inspect==0.8.0 typing_extensions==4.5.0 --upgrade --user"
   ]
  },
  {
   "cell_type": "markdown",
   "metadata": {
    "id": "B-mPnZJdiwkg"
   },
   "source": [
    "---\n",
    "\n",
    "#### ⚠️ Do not forget to click the \"RESTART RUNTIME\" button above.\n",
    "\n",
    "---"
   ]
  },
  {
   "cell_type": "markdown",
   "metadata": {
    "id": "8vEczuYo_r-g"
   },
   "source": [
    "## Authenticate\n",
    "\n",
    "If running in Colab authenticate with `google.colab.google.auth` otherwise assume that running on Vertex Workbench."
   ]
  },
  {
   "cell_type": "code",
   "execution_count": 1,
   "metadata": {
    "id": "loTfn0KniwB2"
   },
   "outputs": [],
   "source": [
    "import os\n",
    "import sys\n",
    "import json\n",
    "if \"google.colab\" in sys.modules:\n",
    "    from google.colab import auth as google_auth\n",
    "    google_auth.authenticate_user()"
   ]
  },
  {
   "cell_type": "markdown",
   "metadata": {
    "id": "_ARUa9gEK74l"
   },
   "source": [
    "## Configure notebook environment"
   ]
  },
  {
   "cell_type": "code",
   "execution_count": 11,
   "metadata": {
    "cellView": "form",
    "id": "hLGY1j-1PE66"
   },
   "outputs": [],
   "source": [
    "# Local import of retriever class\n",
    "import sys, os\n",
    "sys.path.append(os.path.abspath(\"..\"))\n",
    "from utils.es import es_raw_search_summary"
   ]
  },
  {
   "cell_type": "markdown",
   "metadata": {},
   "source": [
    "## Some #defines for the index values\n",
    "\"Query\"\n",
    "\"Golden Doc\"\n",
    "\"Golden Doc Page Number\"\n",
    "\"Golden Answer\"\n",
    "\"Top 5 Docs\"\n",
    "\"Top 5 extractive answers\"\n",
    "\"Top 5 extractive segments\"\n",
    "\"Answer / Summary\""
   ]
  },
  {
   "cell_type": "code",
   "execution_count": 12,
   "metadata": {},
   "outputs": [],
   "source": [
    "queryindex = 0\n",
    "goldendocindex = 1\n",
    "goldendocpagenum = 2\n",
    "goldenanswer = 3\n",
    "top5docsindex = 4\n",
    "top5extansindex = 5\n",
    "top5extsegindex = 6\n",
    "answerindex = 7"
   ]
  },
  {
   "cell_type": "markdown",
   "metadata": {},
   "source": [
    "## Define function to read a single column from the csv file"
   ]
  },
  {
   "cell_type": "code",
   "execution_count": 13,
   "metadata": {},
   "outputs": [],
   "source": [
    "def readthequestions(filename, header_name=\"question\"):\n",
    "    import csv\n",
    "    # Specify the CSV file path\n",
    "    csv_file_path = filename\n",
    "    # Specify the header name of the desired column\n",
    "    header_name = 'question'  # Change this to the desired header name\n",
    "\n",
    "    # Initialize an empty array to store the column values\n",
    "    questions = []\n",
    "\n",
    "    # Open the CSV file and read column values\n",
    "    with open(csv_file_path, 'r') as csvfile:\n",
    "        csv_reader = csv.DictReader(csvfile)\n",
    "        header = csv_reader.fieldnames\n",
    "\n",
    "        for row in csv_reader:\n",
    "            questions.append(row)\n",
    "\n",
    "    # Print the extracted column values\n",
    "    print(questions)\n",
    "    return header, questions"
   ]
  },
  {
   "cell_type": "markdown",
   "metadata": {},
   "source": [
    "## Function to convert results to something we can track"
   ]
  },
  {
   "cell_type": "code",
   "execution_count": 14,
   "metadata": {},
   "outputs": [],
   "source": [
    "def convert_results_tojson(query, results):\n",
    "    import json\n",
    "    \"\"\"Converts search response to a list of LangChain documents.\"\"\"\n",
    "    documents = []\n",
    "    jsonresults = []\n",
    "    if results: \n",
    "        for result in results:\n",
    "            if hasattr(result.document, \"derived_struct_data\"):\n",
    "                metadata = getattr(result.document, \"struct_value\", {})\n",
    "                doc_data = result.document.derived_struct_data\n",
    "                jsonresult = {}\n",
    "                jsonresult[\"query\"] = query\n",
    "                jsonresult[\"id\"] =  result.document.id\n",
    "                # Get extractive answer\n",
    "                chunk_type = \"extractive_answers\"\n",
    "                for chunk in doc_data.get(chunk_type, []):\n",
    "                    jsonresult[\"documentlink\"] = doc_data.get('link', '')\n",
    "                    jsonresult[\"extractive_answer_content\"] = chunk.get(\"content\", \"\")\n",
    "                    jsonresult[\"extractive_answer_content_page\"] = chunk.get('pageNumber', '')\n",
    "\n",
    "                #Chunk Type = \"extractive_segments\"\n",
    "                chunk_type = \"extractive_segments\"            \n",
    "                for chunk in doc_data.get(chunk_type, []):\n",
    "                    data = page_content=chunk.get(\"content\", \"\")\n",
    "                    jsonresult[\"extractive_segment_content\"] = data\n",
    "                       \n",
    "                chunk_type = \"snippets\"            \n",
    "                for chunk in doc_data.get(chunk_type, []):\n",
    "                    #print(\"snippets\")\n",
    "\n",
    "                    data =chunk.get(\"snippet\", \"\")\n",
    "                    jsonresult[\"snippet\"] = data\n",
    "                #Snippet                \n",
    "                jsonresults.append(jsonresult)\n",
    "        \n",
    "        #Retrofit the ranking\n",
    "        numresults = len(jsonresults)\n",
    "        count = 1\n",
    "        for nr in jsonresults:\n",
    "            nr['rank'] = str(count) + \"/\" + str(numresults)\n",
    "            count = count + 1\n",
    "    else:\n",
    "        jsonresult = {}\n",
    "        jsonresult['rank'] = None\n",
    "\n",
    "        jsonresult[\"query\"] = query\n",
    "        jsonresult[\"id\"] =  None\n",
    "        jsonresult[\"extractive_segment_content\"] = None\n",
    "        jsonresult[\"documentlink\"] = None\n",
    "        jsonresult[\"extractive_answer_content_page\"] = None\n",
    "        jsonresults.append(jsonresult)\n",
    "\n",
    "    return jsonresults"
   ]
  },
  {
   "cell_type": "code",
   "execution_count": 15,
   "metadata": {},
   "outputs": [],
   "source": [
    "def format_results(results, topN = 5):\n",
    "    \"\"\"This function returns the top 5 extractive segments, answers, summarized answer\"\"\"\n",
    "    top5docs = \"\"\n",
    "    top5segments = \"\"\n",
    "    top5answers = \"\"\n",
    "    \n",
    "    documents = []\n",
    "    if results:\n",
    "        ext_ans_cnt = 0\n",
    "        ext_seg_cnt = 0\n",
    "        for result in results:\n",
    "            \n",
    "            if hasattr(result.document, \"derived_struct_data\"):\n",
    "                metadata = getattr(result.document, \"struct_value\", {})\n",
    "                doc_data = result.document.derived_struct_data\n",
    "                # Get extractive answer\n",
    "                chunk_type = \"extractive_answers\"\n",
    "                if (ext_ans_cnt < topN):\n",
    "                    for chunk in doc_data.get(chunk_type, []):\n",
    "                        content = chunk.get(\"content\", \"\")\n",
    "                        content = content.replace(\"\\n\",\"\")\n",
    "                        top5answers = top5answers + content + \"\\n\\n\"\n",
    "                        #jsonresult[\"extractive_answer_content_page\"] = chunk.get('pageNumber', '')\n",
    "                        top5docs = top5docs + \"Doc: \" + doc_data.get('link', '') + \"  \" + \"Page: \" + chunk.get('pageNumber', '') + \"\\n\\n\"\n",
    "                        ext_ans_cnt = ext_ans_cnt + 1\n",
    "\n",
    "                chunk_type = \"extractive_segments\"     \n",
    "                if (ext_seg_cnt < topN):\n",
    "                    for chunk in doc_data.get(chunk_type, []):\n",
    "                        data = page_content = chunk.get(\"content\", \"\")\n",
    "                        data = data.replace(\"\\n\",\"\")\n",
    "                        top5segments = top5segments + data + \"\\n\\n\"\n",
    "                        ext_seg_cnt = ext_seg_cnt + 1\n",
    "\n",
    "    return top5docs, top5segments, top5answers"
   ]
  },
  {
   "cell_type": "markdown",
   "metadata": {
    "id": "66ff7614"
   },
   "source": [
    "### Set the following constants to reflect your environment\n",
    "* The queries used in the examples here relate to a GCS bucket containing Alphabet investor PDFs, but these should be customised to your own data."
   ]
  },
  {
   "cell_type": "code",
   "execution_count": 16,
   "metadata": {
    "id": "uVxFSrppK8Oy"
   },
   "outputs": [],
   "source": [
    "PROJECT_ID = \"providersearch-378121\"\n",
    "SEARCH_ENGINE_ID = \"bms-eln-07202023_1689884137276\""
   ]
  },
  {
   "cell_type": "markdown",
   "metadata": {},
   "source": [
    "### Gather all the enterprise search results possible"
   ]
  },
  {
   "cell_type": "code",
   "execution_count": 17,
   "metadata": {},
   "outputs": [
    {
     "name": "stdout",
     "output_type": "stream",
     "text": [
      "[{'Query': 'What are the all the measurements for the patients body weight?', 'Golden Doc': '', 'Golden Doc Page Number': '', 'Golden Answer': '', 'Top 5 Docs': '', 'Top 5 extractive answers': '', 'Top 5 extractive segments': '', 'Answer / Summary': '', 'Feedback from customer / account team about returned docs and answer': ''}, {'Query': 'What is the maximum body weight ever measured for the patient?', 'Golden Doc': '', 'Golden Doc Page Number': '', 'Golden Answer': '', 'Top 5 Docs': '', 'Top 5 extractive answers': '', 'Top 5 extractive segments': '', 'Answer / Summary': '', 'Feedback from customer / account team about returned docs and answer': ''}, {'Query': 'What is the body weight measured on date 02/08/2023 ?', 'Golden Doc': '', 'Golden Doc Page Number': '', 'Golden Answer': '', 'Top 5 Docs': '', 'Top 5 extractive answers': '', 'Top 5 extractive segments': '', 'Answer / Summary': '', 'Feedback from customer / account team about returned docs and answer': ''}]\n"
     ]
    }
   ],
   "source": [
    "import utils.es\n",
    "import csv\n",
    "import json\n",
    "\n",
    "# First read the Questions \n",
    "header, questions = readthequestions(\"input.csv\")"
   ]
  },
  {
   "cell_type": "code",
   "execution_count": 18,
   "metadata": {},
   "outputs": [
    {
     "name": "stdout",
     "output_type": "stream",
     "text": [
      "Question is What are the all the measurements for the patients body weight?\n",
      "Output is {'Query': 'What are the all the measurements for the patients body weight?', 'Golden Doc': '', 'Golden Doc Page Number': '', 'Golden Answer': '', 'Top 5 Docs': 'Doc: gs://rk_bestow/ehr-scrubbed.pdf  Page: 81\\n\\n', 'Top 5 extractive answers': 'Note Date &amp; Туре ALT 21 02/08/2023 ASSESSMENT / PLAN Note OBESITY , BMI 30-34.9 , ADULT ( primary encounter diagnosis ) Plan : Advised patient to avoid foods with added sugars , reduce intake of processed foods and encourage patient to eat more whole foods and vegetables .\\n\\n', 'Top 5 extractive segments': \"Note Date &ТуреALT 21 02/08/2023ASSESSMENT / PLANNoteOBESITY , BMI 30-34.9 , ADULT ( primary encounter diagnosis )Plan : Advised patient to avoid foods with added sugars , reduce intake of processed foods and encourage patient to eat more whole foods and vegetables . Stronglyurged patient to reduce and / or completely stop use of unhealthy snacking , sodas , juices , creamers , artifical sweeteners , and / or alcohol .Advised to drink 64 ounces of water / day . Recommend 1200-1500 calories / day .Recommended to initiate or continue moderate intensity aerobic exercise no less than 30 minutes a day , 5-7 days per week .MEDICATION ASSISTED WEIGHT MANAGEMENTPlan : PHENTERMINE 37.5 MG ORAL TABPotential side effects of ( Phentermine / Phendimetazine / Diethylpropion ) includes , but not all encompassing are dry month , palpitations , insomnia , hypertension ,headache , aggravation of anxiety and constipation may occur . Phentermine is not approved for long - term use . Off label use after 12 weeks may be considered ifcontinued weight lost is noted . Therapy should be used in conjunction with a comprehensive weight management program .Patient needs get a verified blood pressure and weight check at any Kaiser facility for medication refill .Follow up in 3-6 months or as agreed upon with member .REVIEW :All problems presented at this visit have been reviewed . All questions and concerns were addressed to the patient's satisfaction . Patient Instructions given as AfterVisit Summary . Verbal Instructions given to patient . I strongly encourage patient to review ALL adverse side effects , contraindications , potential interactions anddosing directions for all prescribed medications with the pharmacist .с10R / B / A :I discussed the risks , benefits , alternative and rationale for treatments ore tests that will be rendered or not rendered . No guarantees were given or implied . Thepatient is competent and understands and agrees to comply with treatment plans . The patient also understands the risks of noncompliance and the consequencesthat may occur .FOLLOW UP :The patient was educated to look out for worrisome signs or symptoms and to seek immediate medical attention as warranted . The patient is directed to call or returnto clinic prn if these symptoms worsen or fail to improve as anticipated . If symptoms are severe the patient understands to go to Urgent Care Clinic or ER .Programs offered at Kaiser Permanente Riverside Service AreaHealthy Balance Class : ( no - cost ) Focus is on weight loss in a sustainable way with accountability ( education , support , weight checks ) . All topics covered . Option toreplace some meals with shakes bars ( using Numetra ) is offered for a fee . Available in most locations .\\n\\n\", 'Answer / Summary': \"The patient's body weight has been measured as 185.0 lb, 203.0 lb, and 203.5 lb.\", 'Feedback from customer / account team about returned docs and answer': ''}\n",
      "Question is What is the maximum body weight ever measured for the patient?\n",
      "Output is {'Query': 'What is the maximum body weight ever measured for the patient?', 'Golden Doc': '', 'Golden Doc Page Number': '', 'Golden Answer': '', 'Top 5 Docs': 'Doc: gs://rk_bestow/ehr-scrubbed.pdf  Page: 4\\n\\n', 'Top 5 extractive answers': 'Added automatically from request for surgery 439088.\\n\\n', 'Top 5 extractive segments': '', 'Answer / Summary': 'The maximum body weight ever measured for the patient is 203.5 lb.', 'Feedback from customer / account team about returned docs and answer': ''}\n",
      "Question is What is the body weight measured on date 02/08/2023 ?\n",
      "Output is {'Query': 'What is the body weight measured on date 02/08/2023 ?', 'Golden Doc': '', 'Golden Doc Page Number': '', 'Golden Answer': '', 'Top 5 Docs': 'Doc: gs://rk_bestow/ehr-scrubbed.pdf  Page: 2\\n\\n', 'Top 5 extractive answers': 'Tel : (804)409-0050 Table • Encounters Procedures Results Medical Equipment ⚫ Medications Clinical Notes 12/03/2021 to 06/08/2023 Discharge Instructions Advance Directives Reason for Referral Family History .\\n\\n', 'Top 5 extractive segments': 'Tel : (804)409-0050Table• EncountersProceduresResultsMedical Equipment⚫ MedicationsClinical Notes 12/03/2021 to 06/08/2023Discharge InstructionsAdvance DirectivesReason for ReferralFamily History .Hospital Discharge DiagnosisVital SignsDate\\tVital Sign\\tValue\\tFacility06/08/2023\\tDiastolic blood pressure\\t61 mm [ Hg ]\\tKaiser Permanente SouthernCalifornia06/08/2023\\tSystolic blood pressure\\t111 mm [ Hg ]\\tKaiser Permanente SouthernCalifornia06/08/2023\\tBody temperature\\t97.7 ° F\\tKaiser Permanente SouthernCalifornia06/08/2023\\tHeart rate\\t87 / min\\tKaiser Permanente SouthernCalifornia06/08/2023\\tSaO2 % ( BldA ) [ Mass fraction ]\\t97 %\\tKaiser Permanente SouthernCalifornia06/08/2023\\tBody height\\t5 ft 7 in cm\\tKaiser Permanente SouthernCalifornia06/08/2023\\tBody weight\\t199.1 lb\\tKaiser Permanente SouthernCalifornia06/08/2023\\tBody mass index ( BMI ) [ Ratio ]\\t31.18 kg / m2\\tKaiser Permanente SouthernCalifornia05/19/2023\\tBody weight\\t200.0 lb\\tKaiser Permanente SouthernCalifornia05/19/2023\\tBody mass index ( BMI ) [ Ratio ]\\t31.32 kg / m2\\tKaiser Permanente SouthernCalifornia02/08/2023\\tDiastolic blood pressure\\t71 mm [ Hg ]\\tKaiser Permanente SouthernCalifornia02/08/2023\\tSystolic blood pressure\\t107 mm [ Hg ]\\tKaiser Permanente SouthernCalifornia02/08/2023\\tBody temperature\\t97.9 ° F\\tKaiser Permanente SouthernCalifornia02/08/2023\\tHeart rate\\t71 / min\\tKaiser Permanente SouthernCalifornia02/08/2023\\tRespiratory rate\\t18 / min\\tKaiser Permanente SouthernCalifornia02/08/2023\\tSaO2 % ( BIDA ) [ Mass fraction ]\\t99 %\\tKaiser Permanente SouthernCalifornia02/08/2023\\tBody height\\t5 ft 7 in cm\\tKaiser Permanente SouthernCalifornia02/08/2023\\tBody weight\\t198.6 lb\\tKaiser Permanente SouthernCalifornia02/08/2023\\tBody mass index ( BMI ) [ Ratio ]\\t31.11 kg / m2\\tKaiser Permanente SouthernCalifornia06/08/2022\\tBody height\\t5 ft 7 in cm\\tKaiser Permanente SouthernCalifornia06/08/2022\\tBody weight\\t185.0 lb\\tKaiser Permanente SouthernCalifornia06/08/2022\\tBody mass index ( BMI ) [ Ratio ]\\t28.98 kg / m2\\tKaiser Permanente SouthernCalifornia03/30/2022\\tBody height\\t5 ft 7 in cm\\tKaiser Permanente SouthernCalifornia\\n\\n', 'Answer / Summary': 'The body weight measured on date 02/08/2023 is 198 lb 10.2 oz ( 90.1 kg ) .', 'Feedback from customer / account team about returned docs and answer': ''}\n"
     ]
    }
   ],
   "source": [
    "with open(\"output.tsv\", \"w\", newline=\"\") as tsvfile:\n",
    "    \n",
    "    tsvwriter = csv.writer(tsvfile, delimiter='\\t')\n",
    "    tsvwriter.writerow(header)    \n",
    "    for q in questions:\n",
    "        output = {}\n",
    "        output = q\n",
    "        print(\"Question is {}\".format(q['Query']))\n",
    "        summary, rawresult = es_raw_search_summary(PROJECT_ID, SEARCH_ENGINE_ID, q['Query'])\n",
    "        print\n",
    "        output['Answer / Summary'] = summary\n",
    "        output['Top 5 Docs'], output['Top 5 extractive segments'], output['Top 5 extractive answers'] = format_results(rawresult, topN = 5)    \n",
    "        print(\"Output is {}\".format(output))\n",
    "        tsvwriter.writerow(output.values())"
   ]
  },
  {
   "cell_type": "code",
   "execution_count": null,
   "metadata": {},
   "outputs": [],
   "source": []
  }
 ],
 "metadata": {
  "colab": {
   "name": "question_answering.ipynb",
   "toc_visible": true
  },
  "environment": {
   "kernel": "python3",
   "name": "common-cpu.m108",
   "type": "gcloud",
   "uri": "gcr.io/deeplearning-platform-release/base-cpu:m108"
  },
  "kernelspec": {
   "display_name": "Python 3 (ipykernel)",
   "language": "python",
   "name": "python3"
  },
  "language_info": {
   "codemirror_mode": {
    "name": "ipython",
    "version": 3
   },
   "file_extension": ".py",
   "mimetype": "text/x-python",
   "name": "python",
   "nbconvert_exporter": "python",
   "pygments_lexer": "ipython3",
   "version": "3.10.10"
  }
 },
 "nbformat": 4,
 "nbformat_minor": 4
}
