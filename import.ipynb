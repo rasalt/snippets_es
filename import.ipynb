{
 "cells": [
  {
   "cell_type": "markdown",
   "id": "f2195cd8-a7b5-4e73-9ad1-9498e8012f41",
   "metadata": {},
   "source": [
    ">>cat meta_1.json\n",
    ">>\n",
    "\n",
    "{\"id\": \"1\", \"structData\": {\"title\": \"california policy on accepting corrected medicare advantage claims\", \"category\": [\"Service Agent\"], \"name\": \"california policy on accepting corrected medicare advantage claims\"}, \"content\": {\"mimeType\": \"application/pdf\", \"uri\": \"gs://companyX_b_07202023/data/1 - California Policy on Accepting Corrected Medicare Advantage Claims.pdf\"}}\n",
    "{\"id\": \"2\", \"structData\": {\"title\": \"claims documentation and reporting guidelines for commercial members\", \"category\": [\"Service Agent\", \"Claims Representative\"], \"name\": \"claims documentation and reporting guidelines for commercial members\"}, \"content\": {\"mimeType\": \"application/pdf\", \"uri\": \"gs://companyX_b_07202023/data/2- Claims Documentation and Reporting Guidelines for Commercial Members.pdf\"}}\n",
    "{\"id\": \"3\", \"structData\": {\"title\": \"claims guidelines for bundled services and supplies for commercial members\", \"category\": [\"Claims Representative\", \"G&A Representative\"], \"name\": \"claims guidelines for bundled services and supplies for commercial members\"}, \"content\": {\"mimeType\": \"application/pdf\", \"uri\": \"gs://companyX_b_07202023/data/3- Claims Guidelines for Bundled Services and Supplies for Commercial Members.pdf\"}}\n",
    ">>cat meta_2.json\n",
    ">>\n",
    "{\"id\": \"4\", \"structData\": {\"title\": \"claims guidelines for professional ambulance services for california commercial members\", \"category\": [\"Claims Representative\", \"G&A Representative\"], \"name\": \"claims guidelines for professional ambulance services for california commercial members\"}, \"content\": {\"mimeType\": \"application/pdf\", \"uri\": \"gs://companyX_b_07202023/data/4- Claims Guidelines for Professional Ambulance Services for California Commercial Members.pdf\"}}\n",
    "{\"id\": \"5\", \"structData\": {\"title\": \"medicare advantage claims submission guidelines\", \"category\": [\"Claims Representative\", \"G&A Representative\"], \"name\": \"medicare advantage claims submission guidelines\"}, \"content\": {\"mimeType\": \"application/pdf\", \"uri\": \"gs://companyX_b_07202023/data/5- Medicare Advantage Claims Submission Guidelines.pdf\"}}\n",
    "{\"id\": \"6\", \"structData\": {\"title\": \"support manual for a provider or facility in a california agreement with companyX\", \"category\": [\"Service Agent\", \"Claims Representative\", \"G&A Representative\"], \"name\": \"support manual for a provider or facility in a california agreement with companyX\"}, \"content\": {\"mimeType\": \"application/pdf\", \"uri\": \"gs://companyX_b_07202023/data/6- Support Manual for a Provider or Facility in a California Agreement with Anthem.pdf\"}}"
   ]
  },
  {
   "cell_type": "code",
   "execution_count": 13,
   "id": "40d392e3-60da-4775-941a-ed499f3d200d",
   "metadata": {},
   "outputs": [
    {
     "name": "stderr",
     "output_type": "stream",
     "text": [
      "  % Total    % Received % Xferd  Average Speed   Time    Time     Time  Current\n",
      "                                 Dload  Upload   Total   Spent    Left  Speed\n",
      "100   497    0   290  100   207    427    305 --:--:-- --:--:-- --:--:--   733\n"
     ]
    },
    {
     "name": "stdout",
     "output_type": "stream",
     "text": [
      "{\n",
      "  \"name\": \"projects/9057658179/locations/global/collections/default_collection/dataStores/test_1706210645189/branches/0/operations/import-documents-10370787076607834791\",\n",
      "  \"metadata\": {\n",
      "    \"@type\": \"type.googleapis.com/google.cloud.discoveryengine.v1beta.ImportDocumentsMetadata\"\n",
      "  }\n",
      "}\n"
     ]
    }
   ],
   "source": [
    "%%bash\n",
    "echo '{\n",
    "    \"gcsSource\": {\n",
    "      \"inputUris\": [\"gs://companyX_b_07202023/meta_1.json\"],\n",
    "    },\n",
    "    \"errorConfig\":{\n",
    "      \"gcsPrefix\":\"gs://companyX_b_07202023/error\"\n",
    "    },\n",
    "    \"reconciliationMode\": \"INCREMENTAL\",\n",
    "}' > input.json\n",
    "\n",
    "\n",
    "curl -X POST \\\n",
    "-H \"Authorization: Bearer $(gcloud auth application-default print-access-token)\" \\\n",
    "-H \"Content-Type: application/json; charset=utf-8\" -d @./input.json \\\n",
    "\"https://discoveryengine.googleapis.com/v1beta/projects/providersearch-378121/locations/global/dataStores/test_1706210645189/branches/0/documents:import\"\n"
   ]
  },
  {
   "cell_type": "markdown",
   "id": "6f098821-2ecb-4db3-ac31-a5c49bf68b8c",
   "metadata": {},
   "source": [
    "### Check Operation of the import operation \n",
    "\n",
    "Replace the operation name in the command below \n",
    "eg from the below, pick up (import-documents-13545975205001210097)\n",
    "\n",
    "\"name\": \"projects/9057658179/locations/global/collections/default_collection/dataStores/test_1706210645189/branches/0/operations/import-documents-10370787076607834791\""
   ]
  },
  {
   "cell_type": "code",
   "execution_count": 11,
   "id": "2e1bb316-58b6-4113-91c2-e6b8e77c07bf",
   "metadata": {},
   "outputs": [
    {
     "name": "stderr",
     "output_type": "stream",
     "text": [
      "  % Total    % Received % Xferd  Average Speed   Time    Time     Time  Current\n",
      "                                 Dload  Upload   Total   Spent    Left  Speed\n",
      "100   271    0   271    0     0   2509      0 --:--:-- --:--:-- --:--:--  2509\n"
     ]
    },
    {
     "name": "stdout",
     "output_type": "stream",
     "text": [
      "{\n",
      "  \"error\": {\n",
      "    \"code\": 404,\n",
      "    \"message\": \"Requested operation projects/9057658179/locations/us/collections/default_collection/dataStores/fhirsearch20231215/branches/0/operations/import-documents-13545975205001210097 was not found.\",\n",
      "    \"status\": \"NOT_FOUND\"\n",
      "  }\n",
      "}\n"
     ]
    }
   ],
   "source": [
    "%%bash\n",
    "curl -X GET \\\n",
    "    -H \"Authorization: Bearer $(gcloud auth print-access-token)\" \\\n",
    "    \"https://us-discoveryengine.googleapis.com/v1alpha/projects/providersearch-378121/locations/us/collections/default_collection/dataStores/fhirsearch20231215/branches/0/operations/import-documents-13545975205001210097\""
   ]
  },
  {
   "cell_type": "markdown",
   "id": "a4a39457-ef0d-4e05-8deb-62440b8a301b",
   "metadata": {},
   "source": [
    ">> cat metadata_j.json\n",
    ">> \n",
    "{\"id\": \"1\", \"structData\": {\"title\": \"california policy on accepting corrected medicare advantage claims\", \"category\": [\"Service Agent\"], \"name\": \"california policy on accepting corrected medicare advantage claims\"}, \"content\": {\"mimeType\": \"application/pdf\", \"uri\": \"gs://companyX_b_07202023/data/1 - California Policy on Accepting Corrected Medicare Advantage Claims.pdf\"}}\n",
    "{\"id\": \"2\", \"structData\": {\"title\": \"claims documentation and reporting guidelines for commercial members\", \"category\": [\"Service Agent\", \"Claims Representative\"], \"name\": \"claims documentation and reporting guidelines for commercial members\"}, \"content\": {\"mimeType\": \"application/pdf\", \"uri\": \"gs://companyX_b_07202023/data/2- Claims Documentation and Reporting Guidelines for Commercial Members.pdf\"}}\n",
    "{\"id\": \"3\", \"structData\": {\"title\": \"claims guidelines for bundled services and supplies for commercial members\", \"category\": [\"Claims Representative\", \"G&A Representative\"], \"name\": \"claims guidelines for bundled services and supplies for commercial members\"}, \"content\": {\"mimeType\": \"application/pdf\", \"uri\": \"gs://companyX_b_07202023/data/3- Claims Guidelines for Bundled Services and Supplies for Commercial Members.pdf\"}}\n",
    "{\"id\": \"4\", \"structData\": {\"title\": \"claims guidelines for professional ambulance services for california commercial members\", \"category\": [\"Claims Representative\", \"G&A Representative\"], \"name\": \"claims guidelines for professional ambulance services for california commercial members\"}, \"content\": {\"mimeType\": \"application/pdf\", \"uri\": \"gs://companyX_b_07202023/data/4- Claims Guidelines for Professional Ambulance Services for California Commercial Members.pdf\"}}\n",
    "{\"id\": \"5\", \"structData\": {\"title\": \"medicare advantage claims submission guidelines\", \"category\": [\"Claims Representative\", \"G&A Representative\"], \"name\": \"medicare advantage claims submission guidelines\"}, \"content\": {\"mimeType\": \"application/pdf\", \"uri\": \"gs://companyX_b_07202023/data/5- Medicare Advantage Claims Submission Guidelines.pdf\"}}\n",
    "{\"id\": \"6\", \"structData\": {\"title\": \"support manual for a provider or facility in a california agreement with companyX\", \"category\": [\"Service Agent\", \"Claims Representative\", \"G&A Representative\"], \"name\": \"support manual for a provider or facility in a california agreement with companyX\"}, \"content\": {\"mimeType\": \"application/pdf\", \"uri\": \"gs://companyX_b_07202023/data/6- Support Manual for a Provider or Facility in a California Agreement with Anthem.pdf\"}}"
   ]
  },
  {
   "cell_type": "code",
   "execution_count": 14,
   "id": "7451d9cd-5d89-4ece-a11d-0d9d10a66f55",
   "metadata": {},
   "outputs": [
    {
     "name": "stderr",
     "output_type": "stream",
     "text": [
      "  % Total    % Received % Xferd  Average Speed   Time    Time     Time  Current\n",
      "                                 Dload  Upload   Total   Spent    Left  Speed\n",
      "100   501    0   290  100   211    397    289 --:--:-- --:--:-- --:--:--   687\n"
     ]
    },
    {
     "name": "stdout",
     "output_type": "stream",
     "text": [
      "{\n",
      "  \"name\": \"projects/9057658179/locations/global/collections/default_collection/dataStores/test_1706210645189/branches/0/operations/import-documents-11778108226978750712\",\n",
      "  \"metadata\": {\n",
      "    \"@type\": \"type.googleapis.com/google.cloud.discoveryengine.v1beta.ImportDocumentsMetadata\"\n",
      "  }\n",
      "}\n"
     ]
    }
   ],
   "source": [
    "%%bash\n",
    "echo '{\n",
    "    \"gcsSource\": {\n",
    "      \"inputUris\": [\"gs://companyX_b_07202023/metadata_j.json\"],\n",
    "    },\n",
    "    \"errorConfig\":{\n",
    "      \"gcsPrefix\":\"gs://companyX_b_07202023/error\"\n",
    "    },\n",
    "    \"reconciliationMode\": \"INCREMENTAL\",\n",
    "}' > input.json\n",
    "\n",
    "\n",
    "curl -X POST \\\n",
    "-H \"Authorization: Bearer $(gcloud auth application-default print-access-token)\" \\\n",
    "-H \"Content-Type: application/json; charset=utf-8\" -d @./input.json \\\n",
    "\"https://discoveryengine.googleapis.com/v1beta/projects/providersearch-378121/locations/global/dataStores/test_1706210645189/branches/0/documents:import\""
   ]
  },
  {
   "cell_type": "markdown",
   "id": "3abeafca-9b9d-4f2a-aca1-0c38910a323f",
   "metadata": {},
   "source": [
    "## Now you should see 6 documents (3 were already there)"
   ]
  }
 ],
 "metadata": {
  "environment": {
   "kernel": "python3",
   "name": "common-cpu.m108",
   "type": "gcloud",
   "uri": "gcr.io/deeplearning-platform-release/base-cpu:m108"
  },
  "kernelspec": {
   "display_name": "Python 3 (ipykernel)",
   "language": "python",
   "name": "python3"
  },
  "language_info": {
   "codemirror_mode": {
    "name": "ipython",
    "version": 3
   },
   "file_extension": ".py",
   "mimetype": "text/x-python",
   "name": "python",
   "nbconvert_exporter": "python",
   "pygments_lexer": "ipython3",
   "version": "3.10.10"
  }
 },
 "nbformat": 4,
 "nbformat_minor": 5
}
